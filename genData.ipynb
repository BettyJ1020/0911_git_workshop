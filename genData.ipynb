{
 "cells": [
  {
   "cell_type": "code",
   "execution_count": 7,
   "metadata": {},
   "outputs": [
    {
     "name": "stdout",
     "output_type": "stream",
     "text": [
      "Matrices M1 and M2 have been generated and saved to 'matrices.txt'\n"
     ]
    }
   ],
   "source": [
    "import numpy as np\n",
    "\n",
    "# Set the seed for reproducibility (optional)\n",
    "np.random.seed(50)\n",
    "\n",
    "# Generate two different 20x20 matrices filled with random permutations of the numbers 1 to 20\n",
    "# M1 = np.array([np.random.permutation(np.arange(1, 21)) for _ in range(20)])\n",
    "M2 = np.array([np.random.permutation(np.arange(1, 21)) for _ in range(20)])\n",
    "\n",
    "# Save matrices to a text file\n",
    "with open('men_preference.txt', 'w') as f:\n",
    "    np.savetxt(f, M2, fmt='%d')\n",
    "\n",
    "# print(M1)\n",
    "\n",
    "print(\"Matrices M1 and M2 have been generated and saved to 'matrices.txt'\")\n"
   ]
  }
 ],
 "metadata": {
  "kernelspec": {
   "display_name": "base",
   "language": "python",
   "name": "python3"
  },
  "language_info": {
   "codemirror_mode": {
    "name": "ipython",
    "version": 3
   },
   "file_extension": ".py",
   "mimetype": "text/x-python",
   "name": "python",
   "nbconvert_exporter": "python",
   "pygments_lexer": "ipython3",
   "version": "3.9.13"
  }
 },
 "nbformat": 4,
 "nbformat_minor": 2
}
